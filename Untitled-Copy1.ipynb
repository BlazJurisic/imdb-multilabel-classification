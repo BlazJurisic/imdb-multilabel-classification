{
 "cells": [
  {
   "cell_type": "code",
   "execution_count": 20,
   "metadata": {},
   "outputs": [
    {
     "name": "stdout",
     "output_type": "stream",
     "text": [
      "Requirement already satisfied: pandas in d:\\programdata\\miniconda3\\lib\\site-packages (0.24.2)\n",
      "Requirement already satisfied: python-dateutil>=2.5.0 in d:\\programdata\\miniconda3\\lib\\site-packages (from pandas) (2.8.0)\n",
      "Requirement already satisfied: numpy>=1.12.0 in d:\\programdata\\miniconda3\\lib\\site-packages (from pandas) (1.16.2)\n",
      "Requirement already satisfied: pytz>=2011k in d:\\programdata\\miniconda3\\lib\\site-packages (from pandas) (2019.1)\n",
      "Requirement already satisfied: six>=1.5 in d:\\programdata\\miniconda3\\lib\\site-packages (from python-dateutil>=2.5.0->pandas) (1.10.0)\n"
     ]
    }
   ],
   "source": [
    "!pip install pandas"
   ]
  },
  {
   "cell_type": "code",
   "execution_count": 21,
   "metadata": {},
   "outputs": [],
   "source": [
    "import pandas as pd"
   ]
  },
  {
   "cell_type": "code",
   "execution_count": 22,
   "metadata": {},
   "outputs": [],
   "source": [
    "# from timeit import default_timer as timer\n",
    "# from datetime import timedelta\n",
    "\n",
    "# start = timer()\n",
    "# end = timer()\n",
    "# print(timedelta(seconds=end-start))\n"
   ]
  },
  {
   "cell_type": "code",
   "execution_count": 23,
   "metadata": {},
   "outputs": [],
   "source": [
    "def handle_response(url):\n",
    "    response = requests.get(url)\n",
    "    html = response.content\n",
    "\n",
    "    soup = bs4.BeautifulSoup(html, features=\"html.parser\")\n",
    "\n",
    "\n",
    "\n",
    "    div = soup.find(class_ = 'title_wrapper')\n",
    "    title = div.findChildren(\"h1\" , recursive=False)[0]\n",
    "    title = str(list(title.strings)[0]).strip()\n",
    "\n",
    "    # title = str(list(soup.find(class_ = 'originalTitle').strings)[0]).strip()\n",
    "\n",
    "    storyline = str(soup.find(class_ = 'inline canwrap').find(\"span\").string).strip()\n",
    "\n",
    "    f = soup.find(class_ = 'subtext')\n",
    "    f = f.findAll(\"a\")\n",
    "    genres = []\n",
    "    for a in f:\n",
    "        genres.append(a.string)\n",
    "\n",
    "    genres = genres[:len(genres) - 1]\n",
    "    \n",
    "    return {\n",
    "        \"title\": title,\n",
    "        \"genre\": \"\".join([\" \" + str(x) for x in genres]).strip(),\n",
    "        \"storyline\": storyline\n",
    "    }"
   ]
  },
  {
   "cell_type": "code",
   "execution_count": 24,
   "metadata": {},
   "outputs": [],
   "source": [
    "\n",
    "import requests\n",
    "import bs4\n",
    "\n",
    "listOfGenres = [\"Action\", \"Drama\", \"Comedy\", \"Crime\", \n",
    "                \"Mystery\", \"Adventure\", \"Animation\", \"Horror\", \n",
    "                \"War\", \"Documentary\", \"Sport\", \"Talk-Show\", \n",
    "                \"News\", \"Film-Noir\", \"Romance\", \"Short\", \n",
    "                \"Thriller\", \"Family\", \"Fantasy\", \"Sci-Fi\", \n",
    "                \"History\", \"Music\", \"Biography\", \"Music\", \n",
    "                \"Reality-TV\", \"Western\", \"Game-Show\", \"Adult\"]\n",
    "\n",
    "movies_per_genre = 1000\n",
    "\n",
    "range_num = int(movies_per_genre / 50)\n",
    "starts = [1 + 50 * i for i in range(range_num)]\n",
    "\n",
    "title_ids = []\n",
    "\n",
    "for genre in listOfGenres:\n",
    "    baseUrl = (\"https://www.imdb.com/search/title?title_type=feature&num_votes=25000,&genres=\" + genre).strip()\n",
    "    for start in starts:\n",
    "        listUrl = (baseUrl + \"&view=simple&sort=user_rating,desc&start=\" + str(start) + \"&ref_=adv_prv\").strip()\n",
    "        #print(listUrl)\n",
    "        movieIDs = []\n",
    "        movies = requests.get(listUrl)\n",
    "        movieshtml = movies.content\n",
    "        moviesSoup = bs4.BeautifulSoup(movieshtml, features=\"html.parser\")\n",
    "                \n",
    "        for f in moviesSoup.find_all(class_ = 'lister-item mode-simple'):\n",
    "            a = f.find('a', href=True)\n",
    "            title_ids.append(a['href'])\n",
    "        \n",
    "        #sad treba uzeti svaki film iz liste, slično kao title\n",
    "        #potencijalno odavdje izvući sve, ne ići na posebne stranice"
   ]
  },
  {
   "cell_type": "code",
   "execution_count": 25,
   "metadata": {},
   "outputs": [
    {
     "data": {
      "text/plain": [
       "'/title/tt5813916/'"
      ]
     },
     "execution_count": 25,
     "metadata": {},
     "output_type": "execute_result"
    }
   ],
   "source": [
    "title_ids[0]"
   ]
  },
  {
   "cell_type": "code",
   "execution_count": 33,
   "metadata": {},
   "outputs": [
    {
     "data": {
      "text/plain": [
       "11579"
      ]
     },
     "execution_count": 33,
     "metadata": {},
     "output_type": "execute_result"
    }
   ],
   "source": [
    "len(title_ids)"
   ]
  },
  {
   "cell_type": "code",
   "execution_count": 34,
   "metadata": {},
   "outputs": [],
   "source": [
    "base_url = 'http://www.imdb.com'\n",
    "urls = list(map(lambda title_id: base_url + title_id, title_ids))"
   ]
  },
  {
   "cell_type": "code",
   "execution_count": 37,
   "metadata": {},
   "outputs": [],
   "source": [
    "data_dict = []\n",
    "\n",
    "for index, url in enumerate(urls):\n",
    "    if(index > 11000):\n",
    "        movie = handle_response(url)\n",
    "        data_dict.append(movie)\n",
    "\n",
    "        if(index % 1000 == 0 and index != 0):\n",
    "            df_temp = pd.DataFrame(data_dict)\n",
    "            df_temp.to_csv('dataset_at_index_{}.csv'.format(index))"
   ]
  },
  {
   "cell_type": "code",
   "execution_count": 38,
   "metadata": {},
   "outputs": [
    {
     "data": {
      "text/html": [
       "<div>\n",
       "<style scoped>\n",
       "    .dataframe tbody tr th:only-of-type {\n",
       "        vertical-align: middle;\n",
       "    }\n",
       "\n",
       "    .dataframe tbody tr th {\n",
       "        vertical-align: top;\n",
       "    }\n",
       "\n",
       "    .dataframe thead th {\n",
       "        text-align: right;\n",
       "    }\n",
       "</style>\n",
       "<table border=\"1\" class=\"dataframe\">\n",
       "  <thead>\n",
       "    <tr style=\"text-align: right;\">\n",
       "      <th></th>\n",
       "      <th>genre</th>\n",
       "      <th>storyline</th>\n",
       "      <th>title</th>\n",
       "    </tr>\n",
       "  </thead>\n",
       "  <tbody>\n",
       "    <tr>\n",
       "      <th>0</th>\n",
       "      <td>Action Comedy Crime</td>\n",
       "      <td>Elwood, the now lone \"Blues Brother\" finally r...</td>\n",
       "      <td>Braća Blues 2000</td>\n",
       "    </tr>\n",
       "    <tr>\n",
       "      <th>1</th>\n",
       "      <td>Comedy Drama Family</td>\n",
       "      <td>Troy and the gang of East High School are goin...</td>\n",
       "      <td>High School Musical 3: Maturanti</td>\n",
       "    </tr>\n",
       "    <tr>\n",
       "      <th>2</th>\n",
       "      <td>Comedy Family Music</td>\n",
       "      <td>When the teenager Mary Elizabeth Steppe, a.k.a...</td>\n",
       "      <td>Confessions of a Teenage Drama Queen</td>\n",
       "    </tr>\n",
       "    <tr>\n",
       "      <th>3</th>\n",
       "      <td>Animation Comedy Family</td>\n",
       "      <td>After a concert mishap lands Dave in the hospi...</td>\n",
       "      <td>Alvin and the Chipmunks: The Squeakquel</td>\n",
       "    </tr>\n",
       "    <tr>\n",
       "      <th>4</th>\n",
       "      <td>Animation Adventure Comedy</td>\n",
       "      <td>Playing around while aboard a cruise ship, the...</td>\n",
       "      <td>Alvin i vjeverice 3</td>\n",
       "    </tr>\n",
       "  </tbody>\n",
       "</table>\n",
       "</div>"
      ],
      "text/plain": [
       "                        genre  \\\n",
       "0         Action Comedy Crime   \n",
       "1         Comedy Drama Family   \n",
       "2         Comedy Family Music   \n",
       "3     Animation Comedy Family   \n",
       "4  Animation Adventure Comedy   \n",
       "\n",
       "                                           storyline  \\\n",
       "0  Elwood, the now lone \"Blues Brother\" finally r...   \n",
       "1  Troy and the gang of East High School are goin...   \n",
       "2  When the teenager Mary Elizabeth Steppe, a.k.a...   \n",
       "3  After a concert mishap lands Dave in the hospi...   \n",
       "4  Playing around while aboard a cruise ship, the...   \n",
       "\n",
       "                                     title  \n",
       "0                         Braća Blues 2000  \n",
       "1         High School Musical 3: Maturanti  \n",
       "2     Confessions of a Teenage Drama Queen  \n",
       "3  Alvin and the Chipmunks: The Squeakquel  \n",
       "4                      Alvin i vjeverice 3  "
      ]
     },
     "execution_count": 38,
     "metadata": {},
     "output_type": "execute_result"
    }
   ],
   "source": [
    "df = pd.DataFrame(data_dict)\n",
    "df.head()"
   ]
  },
  {
   "cell_type": "code",
   "execution_count": 39,
   "metadata": {},
   "outputs": [],
   "source": [
    "df.to_csv('dataset_at_the_end.csv')"
   ]
  },
  {
   "cell_type": "code",
   "execution_count": null,
   "metadata": {},
   "outputs": [],
   "source": []
  },
  {
   "cell_type": "code",
   "execution_count": null,
   "metadata": {},
   "outputs": [],
   "source": []
  }
 ],
 "metadata": {
  "kernelspec": {
   "display_name": "Python 3",
   "language": "python",
   "name": "python3"
  },
  "language_info": {
   "codemirror_mode": {
    "name": "ipython",
    "version": 3
   },
   "file_extension": ".py",
   "mimetype": "text/x-python",
   "name": "python",
   "nbconvert_exporter": "python",
   "pygments_lexer": "ipython3",
   "version": "3.6.0"
  }
 },
 "nbformat": 4,
 "nbformat_minor": 4
}
