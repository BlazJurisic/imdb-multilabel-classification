{
 "cells": [
  {
   "cell_type": "code",
   "execution_count": 53,
   "metadata": {},
   "outputs": [
    {
     "name": "stderr",
     "output_type": "stream",
     "text": [
      "UsageError: Line magic function `%install_ext` not found.\n"
     ]
    }
   ],
   "source": [
    "# from timeit import default_timer as timer\n",
    "# from datetime import timedelta\n",
    "\n",
    "# start = timer()\n",
    "# end = timer()\n",
    "# print(timedelta(seconds=end-start))\n"
   ]
  },
  {
   "cell_type": "code",
   "execution_count": 54,
   "metadata": {},
   "outputs": [],
   "source": [
    "def handle_response(url):\n",
    "    response = requests.get(url)\n",
    "    html = response.content\n",
    "\n",
    "    soup = bs4.BeautifulSoup(html, features=\"html.parser\")\n",
    "\n",
    "\n",
    "\n",
    "    div = soup.find(class_ = 'title_wrapper')\n",
    "    title = div.findChildren(\"h1\" , recursive=False)[0]\n",
    "    title = str(list(title.strings)[0]).strip()\n",
    "\n",
    "    # title = str(list(soup.find(class_ = 'originalTitle').strings)[0]).strip()\n",
    "\n",
    "    storyline = str(soup.find(class_ = 'inline canwrap').find(\"span\").string).strip()\n",
    "\n",
    "    f = soup.find(class_ = 'subtext')\n",
    "    f = f.findAll(\"a\")\n",
    "    genres = []\n",
    "    for a in f:\n",
    "        genres.append(a.string)\n",
    "\n",
    "    genres = genres[:len(genres) - 1]\n",
    "    \n",
    "    return {\n",
    "        \"title\": title,\n",
    "        \"genre\": \"\".join([\" \" + str(x) for x in genres]).strip(),\n",
    "        \"storyline\": storyline\n",
    "    }"
   ]
  },
  {
   "cell_type": "code",
   "execution_count": 55,
   "metadata": {},
   "outputs": [],
   "source": [
    "\n",
    "import requests\n",
    "import bs4\n",
    "\n",
    "listOfGenres = [\"Action\", \"Drama\"]\n",
    "movies_per_genre = 100\n",
    "\n",
    "range_num = int(movies_per_genre / 50)\n",
    "starts = [1 + 50 * i for i in range(range_num)]\n",
    "\n",
    "title_ids = []\n",
    "\n",
    "for genre in listOfGenres:\n",
    "    baseUrl = (\"https://www.imdb.com/search/title?title_type=feature&num_votes=25000,&genres=\" + genre).strip()\n",
    "    for start in starts:\n",
    "        listUrl = (baseUrl + \"&view=simple&sort=user_rating,desc&start=\" + str(start) + \"&ref_=adv_prv\").strip()\n",
    "        #print(listUrl)\n",
    "        movieIDs = []\n",
    "        movies = requests.get(listUrl)\n",
    "        movieshtml = movies.content\n",
    "        moviesSoup = bs4.BeautifulSoup(movieshtml, features=\"html.parser\")\n",
    "                \n",
    "        for f in moviesSoup.find_all(class_ = 'lister-item mode-simple'):\n",
    "            a = f.find('a', href=True)\n",
    "            title_ids.append(a['href'])\n",
    "        \n",
    "        #sad treba uzeti svaki film iz liste, slično kao title\n",
    "        #potencijalno odavdje izvući sve, ne ići na posebne stranice"
   ]
  },
  {
   "cell_type": "code",
   "execution_count": 56,
   "metadata": {},
   "outputs": [
    {
     "data": {
      "text/plain": [
       "'/title/tt5813916/'"
      ]
     },
     "execution_count": 56,
     "metadata": {},
     "output_type": "execute_result"
    }
   ],
   "source": [
    "title_ids[0]"
   ]
  },
  {
   "cell_type": "code",
   "execution_count": 57,
   "metadata": {},
   "outputs": [
    {
     "data": {
      "text/plain": [
       "200"
      ]
     },
     "execution_count": 57,
     "metadata": {},
     "output_type": "execute_result"
    }
   ],
   "source": [
    "len(title_ids)"
   ]
  },
  {
   "cell_type": "code",
   "execution_count": 58,
   "metadata": {},
   "outputs": [],
   "source": [
    "base_url = 'https://www.imdb.com'\n",
    "urls = list(map(lambda title_id: base_url + title_id, title_ids))"
   ]
  },
  {
   "cell_type": "code",
   "execution_count": 59,
   "metadata": {},
   "outputs": [],
   "source": [
    "data_dict = []\n",
    "\n",
    "for url in urls:\n",
    "    movie = handle_response(url)\n",
    "    data_dict.append(movie)"
   ]
  },
  {
   "cell_type": "code",
   "execution_count": 61,
   "metadata": {},
   "outputs": [
    {
     "name": "stdout",
     "output_type": "stream",
     "text": [
      "Collecting pandas\n",
      "  Downloading https://files.pythonhosted.org/packages/d0/4e/9db3468e504ac9aeadb37eb32bcf0a74d063d24ad1471104bd8a7ba20c97/pandas-0.24.2-cp36-cp36m-win_amd64.whl (8.8MB)\n",
      "Requirement already satisfied: python-dateutil>=2.5.0 in d:\\programdata\\miniconda3\\lib\\site-packages (from pandas) (2.8.0)\n",
      "Requirement already satisfied: numpy>=1.12.0 in d:\\programdata\\miniconda3\\lib\\site-packages (from pandas) (1.16.2)\n",
      "Collecting pytz>=2011k (from pandas)\n",
      "  Downloading https://files.pythonhosted.org/packages/3d/73/fe30c2daaaa0713420d0382b16fbb761409f532c56bdcc514bf7b6262bb6/pytz-2019.1-py2.py3-none-any.whl (510kB)\n",
      "Requirement already satisfied: six>=1.5 in d:\\programdata\\miniconda3\\lib\\site-packages (from python-dateutil>=2.5.0->pandas) (1.10.0)\n",
      "Installing collected packages: pytz, pandas\n",
      "Successfully installed pandas-0.24.2 pytz-2019.1\n"
     ]
    }
   ],
   "source": [
    "!pip install pandas"
   ]
  },
  {
   "cell_type": "code",
   "execution_count": 62,
   "metadata": {},
   "outputs": [
    {
     "data": {
      "text/html": [
       "<div>\n",
       "<style scoped>\n",
       "    .dataframe tbody tr th:only-of-type {\n",
       "        vertical-align: middle;\n",
       "    }\n",
       "\n",
       "    .dataframe tbody tr th {\n",
       "        vertical-align: top;\n",
       "    }\n",
       "\n",
       "    .dataframe thead th {\n",
       "        text-align: right;\n",
       "    }\n",
       "</style>\n",
       "<table border=\"1\" class=\"dataframe\">\n",
       "  <thead>\n",
       "    <tr style=\"text-align: right;\">\n",
       "      <th></th>\n",
       "      <th>genre</th>\n",
       "      <th>storyline</th>\n",
       "      <th>title</th>\n",
       "    </tr>\n",
       "  </thead>\n",
       "  <tbody>\n",
       "    <tr>\n",
       "      <th>0</th>\n",
       "      <td>Action Drama War</td>\n",
       "      <td>DAG II; tells the story of a clandestine speci...</td>\n",
       "      <td>Dag II</td>\n",
       "    </tr>\n",
       "    <tr>\n",
       "      <th>1</th>\n",
       "      <td>Action Crime Drama</td>\n",
       "      <td>Set within a year after the events of Batman B...</td>\n",
       "      <td>Vitez tame</td>\n",
       "    </tr>\n",
       "    <tr>\n",
       "      <th>2</th>\n",
       "      <td>Action Adventure Sci-Fi</td>\n",
       "      <td>Dom Cobb is a skilled thief, the absolute best...</td>\n",
       "      <td>Početak</td>\n",
       "    </tr>\n",
       "    <tr>\n",
       "      <th>3</th>\n",
       "      <td>Action Adventure Sci-Fi</td>\n",
       "      <td>After the devastating events of Avengers: Infi...</td>\n",
       "      <td>Osvetnici: Završnica</td>\n",
       "    </tr>\n",
       "    <tr>\n",
       "      <th>4</th>\n",
       "      <td>Action Sci-Fi</td>\n",
       "      <td>Thomas A. Anderson is a man living two lives. ...</td>\n",
       "      <td>Matrix</td>\n",
       "    </tr>\n",
       "  </tbody>\n",
       "</table>\n",
       "</div>"
      ],
      "text/plain": [
       "                     genre                                          storyline  \\\n",
       "0         Action Drama War  DAG II; tells the story of a clandestine speci...   \n",
       "1       Action Crime Drama  Set within a year after the events of Batman B...   \n",
       "2  Action Adventure Sci-Fi  Dom Cobb is a skilled thief, the absolute best...   \n",
       "3  Action Adventure Sci-Fi  After the devastating events of Avengers: Infi...   \n",
       "4            Action Sci-Fi  Thomas A. Anderson is a man living two lives. ...   \n",
       "\n",
       "                  title  \n",
       "0                Dag II  \n",
       "1            Vitez tame  \n",
       "2               Početak  \n",
       "3  Osvetnici: Završnica  \n",
       "4                Matrix  "
      ]
     },
     "execution_count": 62,
     "metadata": {},
     "output_type": "execute_result"
    }
   ],
   "source": [
    "import pandas as pd\n",
    "\n",
    "df = pd.DataFrame(data_dict)\n",
    "df.head()"
   ]
  },
  {
   "cell_type": "code",
   "execution_count": null,
   "metadata": {},
   "outputs": [],
   "source": []
  }
 ],
 "metadata": {
  "kernelspec": {
   "display_name": "Python 3",
   "language": "python",
   "name": "python3"
  },
  "language_info": {
   "codemirror_mode": {
    "name": "ipython",
    "version": 3
   },
   "file_extension": ".py",
   "mimetype": "text/x-python",
   "name": "python",
   "nbconvert_exporter": "python",
   "pygments_lexer": "ipython3",
   "version": "3.7.1"
  }
 },
 "nbformat": 4,
 "nbformat_minor": 4
}
