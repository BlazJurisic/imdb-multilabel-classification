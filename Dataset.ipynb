{
 "cells": [
  {
   "cell_type": "code",
   "execution_count": 13,
   "metadata": {},
   "outputs": [],
   "source": [
    "import pandas as pd"
   ]
  },
  {
   "cell_type": "code",
   "execution_count": 20,
   "metadata": {},
   "outputs": [
    {
     "data": {
      "text/html": [
       "<div>\n",
       "<style scoped>\n",
       "    .dataframe tbody tr th:only-of-type {\n",
       "        vertical-align: middle;\n",
       "    }\n",
       "\n",
       "    .dataframe tbody tr th {\n",
       "        vertical-align: top;\n",
       "    }\n",
       "\n",
       "    .dataframe thead th {\n",
       "        text-align: right;\n",
       "    }\n",
       "</style>\n",
       "<table border=\"1\" class=\"dataframe\">\n",
       "  <thead>\n",
       "    <tr style=\"text-align: right;\">\n",
       "      <th></th>\n",
       "      <th>Unnamed: 0</th>\n",
       "      <th>genre</th>\n",
       "      <th>storyline</th>\n",
       "      <th>title</th>\n",
       "    </tr>\n",
       "  </thead>\n",
       "  <tbody>\n",
       "    <tr>\n",
       "      <th>0</th>\n",
       "      <td>0</td>\n",
       "      <td>Action Comedy Crime</td>\n",
       "      <td>Elwood, the now lone \"Blues Brother\" finally r...</td>\n",
       "      <td>Braća Blues 2000</td>\n",
       "    </tr>\n",
       "    <tr>\n",
       "      <th>1</th>\n",
       "      <td>1</td>\n",
       "      <td>Comedy Drama Family</td>\n",
       "      <td>Troy and the gang of East High School are goin...</td>\n",
       "      <td>High School Musical 3: Maturanti</td>\n",
       "    </tr>\n",
       "    <tr>\n",
       "      <th>2</th>\n",
       "      <td>2</td>\n",
       "      <td>Comedy Family Music</td>\n",
       "      <td>When the teenager Mary Elizabeth Steppe, a.k.a...</td>\n",
       "      <td>Confessions of a Teenage Drama Queen</td>\n",
       "    </tr>\n",
       "    <tr>\n",
       "      <th>3</th>\n",
       "      <td>3</td>\n",
       "      <td>Animation Comedy Family</td>\n",
       "      <td>After a concert mishap lands Dave in the hospi...</td>\n",
       "      <td>Alvin and the Chipmunks: The Squeakquel</td>\n",
       "    </tr>\n",
       "    <tr>\n",
       "      <th>4</th>\n",
       "      <td>4</td>\n",
       "      <td>Animation Adventure Comedy</td>\n",
       "      <td>Playing around while aboard a cruise ship, the...</td>\n",
       "      <td>Alvin i vjeverice 3</td>\n",
       "    </tr>\n",
       "  </tbody>\n",
       "</table>\n",
       "</div>"
      ],
      "text/plain": [
       "   Unnamed: 0                       genre  \\\n",
       "0           0         Action Comedy Crime   \n",
       "1           1         Comedy Drama Family   \n",
       "2           2         Comedy Family Music   \n",
       "3           3     Animation Comedy Family   \n",
       "4           4  Animation Adventure Comedy   \n",
       "\n",
       "                                           storyline  \\\n",
       "0  Elwood, the now lone \"Blues Brother\" finally r...   \n",
       "1  Troy and the gang of East High School are goin...   \n",
       "2  When the teenager Mary Elizabeth Steppe, a.k.a...   \n",
       "3  After a concert mishap lands Dave in the hospi...   \n",
       "4  Playing around while aboard a cruise ship, the...   \n",
       "\n",
       "                                     title  \n",
       "0                         Braća Blues 2000  \n",
       "1         High School Musical 3: Maturanti  \n",
       "2     Confessions of a Teenage Drama Queen  \n",
       "3  Alvin and the Chipmunks: The Squeakquel  \n",
       "4                      Alvin i vjeverice 3  "
      ]
     },
     "execution_count": 20,
     "metadata": {},
     "output_type": "execute_result"
    }
   ],
   "source": [
    "df = pd.read_csv('dataset_at_the_end.csv')\n",
    "df.head()"
   ]
  },
  {
   "cell_type": "code",
   "execution_count": null,
   "metadata": {},
   "outputs": [],
   "source": []
  },
  {
   "cell_type": "code",
   "execution_count": 32,
   "metadata": {},
   "outputs": [],
   "source": [
    "lines = []\n",
    "\n",
    "for index, row in df.iterrows():\n",
    "    genres = row['genre'].split(\" \")\n",
    "    for genre in genres:\n",
    "        line = '__label__' + genre + ' ' + row['storyline'] \n",
    "        lines.append(line)"
   ]
  },
  {
   "cell_type": "code",
   "execution_count": 33,
   "metadata": {},
   "outputs": [],
   "source": [
    "with open('dataset.txt', 'w') as f:\n",
    "    for line in lines:\n",
    "        f.write(\"%s\\n\" % line)"
   ]
  },
  {
   "cell_type": "code",
   "execution_count": null,
   "metadata": {},
   "outputs": [],
   "source": []
  }
 ],
 "metadata": {
  "kernelspec": {
   "display_name": "Python 3",
   "language": "python",
   "name": "python3"
  },
  "language_info": {
   "codemirror_mode": {
    "name": "ipython",
    "version": 3
   },
   "file_extension": ".py",
   "mimetype": "text/x-python",
   "name": "python",
   "nbconvert_exporter": "python",
   "pygments_lexer": "ipython3",
   "version": "3.7.1"
  }
 },
 "nbformat": 4,
 "nbformat_minor": 2
}
