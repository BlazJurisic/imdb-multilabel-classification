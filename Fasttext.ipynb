{
 "cells": [
  {
   "cell_type": "code",
   "execution_count": 1,
   "metadata": {},
   "outputs": [
    {
     "name": "stdout",
     "output_type": "stream",
     "text": [
      "Collecting fasttext\n",
      "\u001b[?25l  Downloading https://files.pythonhosted.org/packages/10/61/2e01f1397ec533756c1d893c22d9d5ed3fce3a6e4af1976e0d86bb13ea97/fasttext-0.9.1.tar.gz (57kB)\n",
      "\u001b[K    100% |████████████████████████████████| 61kB 1.0MB/s \n",
      "\u001b[?25hRequirement already satisfied: pybind11>=2.2 in /anaconda3/lib/python3.7/site-packages (from fasttext) (2.3.0)\n",
      "Requirement already satisfied: setuptools>=0.7.0 in /anaconda3/lib/python3.7/site-packages (from fasttext) (40.6.3)\n",
      "Requirement already satisfied: numpy in /anaconda3/lib/python3.7/site-packages (from fasttext) (1.15.4)\n",
      "Building wheels for collected packages: fasttext\n",
      "  Running setup.py bdist_wheel for fasttext ... \u001b[?25ldone\n",
      "\u001b[?25h  Stored in directory: /Users/Blaz/Library/Caches/pip/wheels/9f/f0/04/caa82c912aee89ce76358ff954f3f0729b7577c8ff23a292e3\n",
      "Successfully built fasttext\n",
      "Installing collected packages: fasttext\n",
      "Successfully installed fasttext-0.9.1\n"
     ]
    }
   ],
   "source": [
    "!pip install fasttext"
   ]
  },
  {
   "cell_type": "code",
   "execution_count": 1,
   "metadata": {},
   "outputs": [],
   "source": [
    "import fasttext\n",
    "\n",
    "model = fasttext.train_supervised('dataset.txt')"
   ]
  },
  {
   "cell_type": "code",
   "execution_count": 6,
   "metadata": {},
   "outputs": [
    {
     "data": {
      "text/plain": [
       "(('__label__Action', '__label__Drama', '__label__Adventure'),\n",
       " array([0.16040818, 0.14983889, 0.12139087]))"
      ]
     },
     "execution_count": 6,
     "metadata": {},
     "output_type": "execute_result"
    }
   ],
   "source": [
    "model.predict(\"Elwood, the now lone \\\"Blues Brother\\\" finally released from prison, is once again enlisted by Sister Mary Stigmata in her latest crusade to raise funds for a children's hospital. Once again hitting the road to re-unite the band and win the big prize at the New Orleans Battle of the Bands, Elwood is pursued cross-country by the cops, led by Cabel the Curtis' son (and Elwood's step-brother), the Russian Mafia, and a militia group. On his new \\\"mission from God\\\" Elwood enlists the help of a young orphan, and a strip club bartender.\", k=3)\n"
   ]
  },
  {
   "cell_type": "code",
   "execution_count": null,
   "metadata": {},
   "outputs": [],
   "source": []
  }
 ],
 "metadata": {
  "kernelspec": {
   "display_name": "Python 3",
   "language": "python",
   "name": "python3"
  },
  "language_info": {
   "codemirror_mode": {
    "name": "ipython",
    "version": 3
   },
   "file_extension": ".py",
   "mimetype": "text/x-python",
   "name": "python",
   "nbconvert_exporter": "python",
   "pygments_lexer": "ipython3",
   "version": "3.7.1"
  }
 },
 "nbformat": 4,
 "nbformat_minor": 2
}
